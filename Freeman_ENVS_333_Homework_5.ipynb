{
 "cells": [
  {
   "cell_type": "code",
   "execution_count": 1,
   "id": "f6a2e90e-e72e-46c1-96b3-91d95bef76e3",
   "metadata": {},
   "outputs": [],
   "source": [
    "import Convertatron as cvtat"
   ]
  },
  {
   "cell_type": "code",
   "execution_count": 2,
   "id": "9e056f31-c072-45ba-8556-f0b69ddd5e6e",
   "metadata": {},
   "outputs": [
    {
     "name": "stdin",
     "output_type": "stream",
     "text": [
      "Enter the direction lat(1 for N/E, -1 for S/W):  1\n",
      "Enter the degrees lat.:  32\n",
      "Enter the minutes lat.:  32\n",
      "Enter the seconds lat.:  53\n"
     ]
    },
    {
     "data": {
      "text/plain": [
       "32.54805555555556"
      ]
     },
     "execution_count": 2,
     "metadata": {},
     "output_type": "execute_result"
    }
   ],
   "source": [
    "cvtat.cflat()"
   ]
  },
  {
   "cell_type": "code",
   "execution_count": 3,
   "id": "20aa41f3-03a9-46ba-bfc8-ba4dc1a746bb",
   "metadata": {},
   "outputs": [
    {
     "name": "stdin",
     "output_type": "stream",
     "text": [
      "Enter the direction long.(1 for N/E, -1 for S/W):  -1\n",
      "Enter the degrees long.:  3\n",
      "Enter the minutes long.:  59\n",
      "Enter the seconds long.:  21\n"
     ]
    },
    {
     "data": {
      "text/plain": [
       "-3.9891666666666667"
      ]
     },
     "execution_count": 3,
     "metadata": {},
     "output_type": "execute_result"
    }
   ],
   "source": [
    "cvtat.cflong()"
   ]
  },
  {
   "cell_type": "code",
   "execution_count": 4,
   "id": "13dde83d-77ac-4d20-909e-5bbc52d96b27",
   "metadata": {},
   "outputs": [
    {
     "data": {
      "text/plain": [
       "7.5e-20"
      ]
     },
     "execution_count": 4,
     "metadata": {},
     "output_type": "execute_result"
    }
   ],
   "source": [
    "cvtat.convert_SI(75, 'um', 'Pm')"
   ]
  },
  {
   "cell_type": "code",
   "execution_count": 5,
   "id": "0cd89b5d-c3c3-49c3-a251-67a5d3591a09",
   "metadata": {},
   "outputs": [
    {
     "name": "stdin",
     "output_type": "stream",
     "text": [
      "How many inches ya got?:  70\n"
     ]
    },
    {
     "name": "stdout",
     "output_type": "stream",
     "text": [
      "You got 40.0 racks\n"
     ]
    }
   ],
   "source": [
    "cvtat.rackverter()"
   ]
  },
  {
   "cell_type": "code",
   "execution_count": 6,
   "id": "4a8ac567-7728-4912-a38f-3376aeefb2fd",
   "metadata": {},
   "outputs": [
    {
     "name": "stdin",
     "output_type": "stream",
     "text": [
      "How many cm are you traveling?:  374672384628\n"
     ]
    },
    {
     "name": "stdout",
     "output_type": "stream",
     "text": [
      "You have traveled 12497725497.417282 light-nanoseconds\n"
     ]
    }
   ],
   "source": [
    "cvtat.plaid()"
   ]
  },
  {
   "cell_type": "code",
   "execution_count": 7,
   "id": "157fe4a0-cc69-4350-8d9f-be96a0e85cdf",
   "metadata": {},
   "outputs": [
    {
     "name": "stdout",
     "output_type": "stream",
     "text": [
      "You have 57.94162093374692 miles\n"
     ]
    }
   ],
   "source": [
    "cvtat.m2miles(93248)"
   ]
  },
  {
   "cell_type": "code",
   "execution_count": 8,
   "id": "0345d5f6-2fba-4748-a1b8-b371e27c966e",
   "metadata": {},
   "outputs": [
    {
     "name": "stdout",
     "output_type": "stream",
     "text": [
      "You have 5055.754176 meters\n"
     ]
    }
   ],
   "source": [
    "cvtat.miles2m(3.1415)"
   ]
  }
 ],
 "metadata": {
  "kernelspec": {
   "display_name": "Python 3 (ipykernel)",
   "language": "python",
   "name": "python3"
  },
  "language_info": {
   "codemirror_mode": {
    "name": "ipython",
    "version": 3
   },
   "file_extension": ".py",
   "mimetype": "text/x-python",
   "name": "python",
   "nbconvert_exporter": "python",
   "pygments_lexer": "ipython3",
   "version": "3.9.13"
  }
 },
 "nbformat": 4,
 "nbformat_minor": 5
}
