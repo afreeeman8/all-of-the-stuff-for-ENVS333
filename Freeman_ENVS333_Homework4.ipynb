{
 "cells": [
  {
   "cell_type": "code",
   "execution_count": 2,
   "id": "56f8fc05-3ed5-4f52-94a2-fd54adeaf64a",
   "metadata": {},
   "outputs": [],
   "source": [
    "def cflat():\n",
    "    \n",
    "    directionlat = float(input(\"Enter the direction lat(1 for N/E, -1 for S/W): \"))\n",
    "    degreelat = float(input(\"Enter the degrees lat.: \"))\n",
    "    minutelat = float(input(\"Enter the minutes lat.: \"))\n",
    "    secondslat = float(input(\"Enter the seconds lat.: \"))\n",
    "    convertedlat = directionlat*(degreelat + (minutelat + secondslat/60)/60)\n",
    "    \n",
    "    return convertedlat"
   ]
  },
  {
   "cell_type": "code",
   "execution_count": 16,
   "id": "679f0107-c527-4e37-b983-ecf319d7ccaa",
   "metadata": {},
   "outputs": [],
   "source": [
    "def cflong():\n",
    "    \n",
    "    directionlong = float(input(\"Enter the direction long.(1 for N/E, -1 for S/W): \"))\n",
    "    degreelong = float(input(\"Enter the degrees long.: \"))\n",
    "    minutelong = float(input(\"Enter the minutes long.: \"))\n",
    "    secondslong = float(input(\"Enter the seconds long.: \"))\n",
    "    convertedlong = directionlong*(degreelong + (minutelong + secondslong/60)/60)\n",
    "    \n",
    "    return convertedlong"
   ]
  },
  {
   "cell_type": "code",
   "execution_count": 4,
   "id": "3e3a3399-4ddc-482c-a4b1-b5a739219e50",
   "metadata": {},
   "outputs": [
    {
     "name": "stdin",
     "output_type": "stream",
     "text": [
      "Enter the direction lat(1 for N/E, -1 for S/W):  1\n",
      "Enter the degrees lat.:  42\n",
      "Enter the minutes lat.:  13\n",
      "Enter the seconds lat.:  6.49\n"
     ]
    },
    {
     "data": {
      "text/plain": [
       "42.218469444444445"
      ]
     },
     "execution_count": 4,
     "metadata": {},
     "output_type": "execute_result"
    }
   ],
   "source": [
    "cflat()"
   ]
  },
  {
   "cell_type": "code",
   "execution_count": 6,
   "id": "2ae97832-eb4d-427c-b7db-f1e790ea7514",
   "metadata": {},
   "outputs": [
    {
     "name": "stdin",
     "output_type": "stream",
     "text": [
      "Enter the direction lat(1 for N/E, -1 for S/W):  1\n",
      "Enter the degrees lat.:  42\n",
      "Enter the minutes lat.:  13\n",
      "Enter the seconds lat.:  1.16\n"
     ]
    },
    {
     "data": {
      "text/plain": [
       "42.21698888888889"
      ]
     },
     "execution_count": 6,
     "metadata": {},
     "output_type": "execute_result"
    }
   ],
   "source": [
    "cflat()"
   ]
  },
  {
   "cell_type": "code",
   "execution_count": 8,
   "id": "7ed3c33b-6b2e-404c-be33-cec6526108b5",
   "metadata": {},
   "outputs": [
    {
     "name": "stdin",
     "output_type": "stream",
     "text": [
      "Enter the direction lat(1 for N/E, -1 for S/W):  1\n",
      "Enter the degrees lat.:  42\n",
      "Enter the minutes lat.:  12\n",
      "Enter the seconds lat.:  57.57\n"
     ]
    },
    {
     "data": {
      "text/plain": [
       "42.21599166666667"
      ]
     },
     "execution_count": 8,
     "metadata": {},
     "output_type": "execute_result"
    }
   ],
   "source": [
    "cflat()"
   ]
  },
  {
   "cell_type": "code",
   "execution_count": 9,
   "id": "e75aa808-1d55-48af-b140-59b4fa8069b7",
   "metadata": {},
   "outputs": [
    {
     "name": "stdin",
     "output_type": "stream",
     "text": [
      "Enter the direction lat(1 for N/E, -1 for S/W):  1\n",
      "Enter the degrees lat.:  42\n",
      "Enter the minutes lat.:  12\n",
      "Enter the seconds lat.:  52.92\n"
     ]
    },
    {
     "data": {
      "text/plain": [
       "42.2147"
      ]
     },
     "execution_count": 9,
     "metadata": {},
     "output_type": "execute_result"
    }
   ],
   "source": [
    "cflat()"
   ]
  },
  {
   "cell_type": "code",
   "execution_count": 10,
   "id": "a34c5e6c-d4a4-499a-b5ea-2bb205fe6fa5",
   "metadata": {},
   "outputs": [
    {
     "name": "stdin",
     "output_type": "stream",
     "text": [
      "Enter the direction lat(1 for N/E, -1 for S/W):  1\n",
      "Enter the degrees lat.:  42\n",
      "Enter the minutes lat.:  13\n",
      "Enter the seconds lat.:  4.31\n"
     ]
    },
    {
     "data": {
      "text/plain": [
       "42.217863888888886"
      ]
     },
     "execution_count": 10,
     "metadata": {},
     "output_type": "execute_result"
    }
   ],
   "source": [
    "cflat()"
   ]
  },
  {
   "cell_type": "code",
   "execution_count": 12,
   "id": "92a967b1-52f5-4a07-9458-bed2626e0cb9",
   "metadata": {},
   "outputs": [
    {
     "name": "stdin",
     "output_type": "stream",
     "text": [
      "Enter the direction lat(1 for N/E, -1 for S/W):  1\n",
      "Enter the degrees lat.:  42\n",
      "Enter the minutes lat.:  12\n",
      "Enter the seconds lat.:  55.75\n"
     ]
    },
    {
     "data": {
      "text/plain": [
       "42.21548611111111"
      ]
     },
     "execution_count": 12,
     "metadata": {},
     "output_type": "execute_result"
    }
   ],
   "source": [
    "cflat()"
   ]
  },
  {
   "cell_type": "code",
   "execution_count": 13,
   "id": "48fca8ae-0593-4ff8-a429-dc657e33acb1",
   "metadata": {},
   "outputs": [
    {
     "name": "stdin",
     "output_type": "stream",
     "text": [
      "Enter the direction lat(1 for N/E, -1 for S/W):  1\n",
      "Enter the degrees lat.:  42\n",
      "Enter the minutes lat.:  12\n",
      "Enter the seconds lat.:  47.12\n"
     ]
    },
    {
     "data": {
      "text/plain": [
       "42.21308888888889"
      ]
     },
     "execution_count": 13,
     "metadata": {},
     "output_type": "execute_result"
    }
   ],
   "source": [
    "cflat()"
   ]
  },
  {
   "cell_type": "code",
   "execution_count": 14,
   "id": "260912c9-c043-4f9d-889b-3a4000ef0470",
   "metadata": {},
   "outputs": [
    {
     "name": "stdin",
     "output_type": "stream",
     "text": [
      "Enter the direction lat(1 for N/E, -1 for S/W):  1\n",
      "Enter the degrees lat.:  42\n",
      "Enter the minutes lat.:  12\n",
      "Enter the seconds lat.:  43.44\n"
     ]
    },
    {
     "data": {
      "text/plain": [
       "42.212066666666665"
      ]
     },
     "execution_count": 14,
     "metadata": {},
     "output_type": "execute_result"
    }
   ],
   "source": [
    "cflat()"
   ]
  },
  {
   "cell_type": "code",
   "execution_count": 17,
   "id": "67fb33cc-7386-471f-9d13-c485737f5ac6",
   "metadata": {},
   "outputs": [
    {
     "name": "stdin",
     "output_type": "stream",
     "text": [
      "Enter the direction long.(1 for N/E, -1 for S/W):  -1\n",
      "Enter the degrees long.:  71\n",
      "Enter the minutes long.:  7\n",
      "Enter the seconds long.:  4.43\n"
     ]
    },
    {
     "data": {
      "text/plain": [
       "-71.11789722222223"
      ]
     },
     "execution_count": 17,
     "metadata": {},
     "output_type": "execute_result"
    }
   ],
   "source": [
    "cflong()"
   ]
  },
  {
   "cell_type": "code",
   "execution_count": 18,
   "id": "3e068acb-879d-499e-ada2-bbdee3bc9a3f",
   "metadata": {},
   "outputs": [
    {
     "name": "stdin",
     "output_type": "stream",
     "text": [
      "Enter the direction long.(1 for N/E, -1 for S/W):  -1\n",
      "Enter the degrees long.:  71\n",
      "Enter the minutes long.:  7\n",
      "Enter the seconds long.:  10.17\n"
     ]
    },
    {
     "data": {
      "text/plain": [
       "-71.11949166666666"
      ]
     },
     "execution_count": 18,
     "metadata": {},
     "output_type": "execute_result"
    }
   ],
   "source": [
    "cflong()"
   ]
  },
  {
   "cell_type": "code",
   "execution_count": 19,
   "id": "d1c3d669-17cc-41f5-9944-4dbc07cef160",
   "metadata": {},
   "outputs": [
    {
     "name": "stdin",
     "output_type": "stream",
     "text": [
      "Enter the direction long.(1 for N/E, -1 for S/W):  -1\n",
      "Enter the degrees long.:  71\n",
      "Enter the minutes long.:  7\n",
      "Enter the seconds long.:  11.07\n"
     ]
    },
    {
     "data": {
      "text/plain": [
       "-71.11974166666667"
      ]
     },
     "execution_count": 19,
     "metadata": {},
     "output_type": "execute_result"
    }
   ],
   "source": [
    "cflong()"
   ]
  },
  {
   "cell_type": "code",
   "execution_count": 20,
   "id": "b5f54450-ce29-4a4e-bdd6-39042423d736",
   "metadata": {},
   "outputs": [
    {
     "name": "stdin",
     "output_type": "stream",
     "text": [
      "Enter the direction long.(1 for N/E, -1 for S/W):  -1\n",
      "Enter the degrees long.:  71\n",
      "Enter the minutes long.:  7\n",
      "Enter the seconds long.:  11.25\n"
     ]
    },
    {
     "data": {
      "text/plain": [
       "-71.11979166666667"
      ]
     },
     "execution_count": 20,
     "metadata": {},
     "output_type": "execute_result"
    }
   ],
   "source": [
    "cflong()"
   ]
  },
  {
   "cell_type": "code",
   "execution_count": 21,
   "id": "2844a827-3901-405b-8435-6e1cd35ccb53",
   "metadata": {},
   "outputs": [
    {
     "name": "stdin",
     "output_type": "stream",
     "text": [
      "Enter the direction long.(1 for N/E, -1 for S/W):  -1\n",
      "Enter the degrees long.:  71\n",
      "Enter the minutes long.:  6\n",
      "Enter the seconds long.:  58.56\n"
     ]
    },
    {
     "data": {
      "text/plain": [
       "-71.11626666666666"
      ]
     },
     "execution_count": 21,
     "metadata": {},
     "output_type": "execute_result"
    }
   ],
   "source": [
    "cflong()"
   ]
  },
  {
   "cell_type": "code",
   "execution_count": 22,
   "id": "15052635-7934-45ed-addd-7748fc90cbb7",
   "metadata": {},
   "outputs": [
    {
     "name": "stdin",
     "output_type": "stream",
     "text": [
      "Enter the direction long.(1 for N/E, -1 for S/W):  -1\n",
      "Enter the degrees long.:  71\n",
      "Enter the minutes long.:  6\n",
      "Enter the seconds long.:  53.65\n"
     ]
    },
    {
     "data": {
      "text/plain": [
       "-71.11490277777777"
      ]
     },
     "execution_count": 22,
     "metadata": {},
     "output_type": "execute_result"
    }
   ],
   "source": [
    "cflong()"
   ]
  },
  {
   "cell_type": "code",
   "execution_count": 23,
   "id": "f3157ce3-9c94-4a2e-af80-720693e2c652",
   "metadata": {},
   "outputs": [
    {
     "name": "stdin",
     "output_type": "stream",
     "text": [
      "Enter the direction long.(1 for N/E, -1 for S/W):  -1\n",
      "Enter the degrees long.:  71\n",
      "Enter the minutes long.:  6\n",
      "Enter the seconds long.:  51.51\n"
     ]
    },
    {
     "data": {
      "text/plain": [
       "-71.11430833333333"
      ]
     },
     "execution_count": 23,
     "metadata": {},
     "output_type": "execute_result"
    }
   ],
   "source": [
    "cflong()"
   ]
  },
  {
   "cell_type": "code",
   "execution_count": 24,
   "id": "6d50d6ea-0835-4a96-9590-9454c147d02a",
   "metadata": {},
   "outputs": [
    {
     "name": "stdin",
     "output_type": "stream",
     "text": [
      "Enter the direction long.(1 for N/E, -1 for S/W):  -1\n",
      "Enter the degrees long.:  71\n",
      "Enter the minutes long.:  6\n",
      "Enter the seconds long.:  58.18\n"
     ]
    },
    {
     "data": {
      "text/plain": [
       "-71.11616111111111"
      ]
     },
     "execution_count": 24,
     "metadata": {},
     "output_type": "execute_result"
    }
   ],
   "source": [
    "cflong()"
   ]
  }
 ],
 "metadata": {
  "kernelspec": {
   "display_name": "Python 3 (ipykernel)",
   "language": "python",
   "name": "python3"
  },
  "language_info": {
   "codemirror_mode": {
    "name": "ipython",
    "version": 3
   },
   "file_extension": ".py",
   "mimetype": "text/x-python",
   "name": "python",
   "nbconvert_exporter": "python",
   "pygments_lexer": "ipython3",
   "version": "3.9.13"
  }
 },
 "nbformat": 4,
 "nbformat_minor": 5
}
